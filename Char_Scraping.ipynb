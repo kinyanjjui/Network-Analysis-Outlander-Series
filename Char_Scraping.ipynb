{
 "cells": [
  {
   "cell_type": "code",
   "execution_count": 24,
   "id": "67a88413-433b-476d-b5fb-b0804ffaab49",
   "metadata": {},
   "outputs": [],
   "source": [
    "import pandas as pd\n",
    "from selenium import webdriver\n",
    "from selenium.webdriver.common.by import By\n",
    "# from selenium.webdriver.common.keys inport Keys\n",
    "from webdriver_manager.chrome import ChromeDriverManager\n",
    "from webdriver_manager.core.utils import ChromeType\n",
    "import matplotlib.pyplot as plt\n",
    "# import seaborn as sns\n",
    "# import time\n",
    "import re\n",
    "import warnings"
   ]
  },
  {
   "cell_type": "markdown",
   "id": "8a65d94d-e729-4d55-a63a-a66d5e7be9e7",
   "metadata": {},
   "source": [
    "Creating The Driver"
   ]
  },
  {
   "cell_type": "code",
   "execution_count": 25,
   "id": "5638a08b-04cc-4b37-8436-5a8b4ac8981a",
   "metadata": {},
   "outputs": [
    {
     "name": "stdout",
     "output_type": "stream",
     "text": [
      "\n"
     ]
    },
    {
     "name": "stderr",
     "output_type": "stream",
     "text": [
      "C:\\Users\\ngang\\AppData\\Local\\Temp\\ipykernel_12560\\1414848741.py:1: DeprecationWarning: executable_path has been deprecated, please pass in a Service object\n",
      "  driver = webdriver.Chrome(ChromeDriverManager(chrome_type=ChromeType.BRAVE).install())\n"
     ]
    }
   ],
   "source": [
    "driver = webdriver.Chrome(ChromeDriverManager(chrome_type=ChromeType.BRAVE).install())\n",
    "warnings.filterwarnings(\"ignore\", category=DeprecationWarning)"
   ]
  },
  {
   "cell_type": "code",
   "execution_count": 26,
   "id": "30cfca21-1c21-4666-b241-d94b3b499f6e",
   "metadata": {},
   "outputs": [],
   "source": [
    "#wiki url character list\n",
    "wiki_url = 'https://outlander.fandom.com/wiki/Category:Characters'\n",
    "driver.get(wiki_url)\n",
    "\n",
    "#finding characters by book\n",
    "Book_categories = driver.find_elements(By.CLASS_NAME,'category-page__member-link')\n",
    "#get page link redirecting to page showing characters for each book\n",
    "for i in range(len(Book_categories)):\n",
    "    if re.search(\"^Category:Characters by book\", Book_categories[i].text):\n",
    "        book_link = Book_categories[i].get_attribute('href')\n",
    "        \n",
    "driver.get(book_link)"
   ]
  },
  {
   "cell_type": "code",
   "execution_count": 27,
   "id": "60f07bce-99a4-41a4-a265-6497e96b8a41",
   "metadata": {
    "tags": []
   },
   "outputs": [],
   "source": [
    "novels = driver.find_elements(By.CLASS_NAME,'category-page__member-link')\n",
    "#contains other books by the author\n",
    "\n",
    "Book_list = ['Outlander',\n",
    "             'Dragonfly in Amber',\n",
    "             'Voyager',\n",
    "             'Drums of Autumn','The Fiery Cross',\n",
    "             'A Breath of Snow and Ashes',\n",
    "             'An Echo in the Bone',\n",
    "             'Go Tell the Bees That I Am Gone',\n",
    "            ] ##list of the  main books in the series"
   ]
  },
  {
   "cell_type": "code",
   "execution_count": 28,
   "id": "8ea92704-739c-42d3-9b2c-8ffcf00c7526",
   "metadata": {
    "tags": []
   },
   "outputs": [
    {
     "data": {
      "text/plain": [
       "[{'book_title': 'Outlander (novel)',\n",
       "  'url': 'https://outlander.fandom.com/wiki/Category:Characters_in_Outlander_(novel)'},\n",
       " {'book_title': 'Dragonfly in Amber',\n",
       "  'url': 'https://outlander.fandom.com/wiki/Category:Characters_in_Dragonfly_in_Amber'},\n",
       " {'book_title': 'Voyager',\n",
       "  'url': 'https://outlander.fandom.com/wiki/Category:Characters_in_Voyager'},\n",
       " {'book_title': 'Drums of Autumn',\n",
       "  'url': 'https://outlander.fandom.com/wiki/Category:Characters_in_Drums_of_Autumn'},\n",
       " {'book_title': 'The Fiery Cross',\n",
       "  'url': 'https://outlander.fandom.com/wiki/Category:Characters_in_The_Fiery_Cross'},\n",
       " {'book_title': 'A Breath of Snow and Ashes',\n",
       "  'url': 'https://outlander.fandom.com/wiki/Category:Characters_in_A_Breath_of_Snow_and_Ashes'},\n",
       " {'book_title': 'An Echo in the Bone',\n",
       "  'url': 'https://outlander.fandom.com/wiki/Category:Characters_in_An_Echo_in_the_Bone'},\n",
       " {'book_title': 'Go Tell the Bees That I Am Gone',\n",
       "  'url': 'https://outlander.fandom.com/wiki/Category:Characters_in_Go_Tell_the_Bees_That_I_Am_Gone'}]"
      ]
     },
     "execution_count": 28,
     "metadata": {},
     "output_type": "execute_result"
    }
   ],
   "source": [
    "books =[]\n",
    "for bk in Book_list: ##filtering for only books in main series\n",
    "    for i in range(len(novels)):\n",
    "        book_title = novels[i].text.lstrip('Category:Characters in ')\n",
    "        if bk in book_title:\n",
    "        #The final book wont show debugg later\n",
    "            book_url = novels[i].get_attribute('href')\n",
    "            books.append({'book_title': book_title, 'url':book_url})\n",
    "            \n",
    "books"
   ]
  },
  {
   "cell_type": "code",
   "execution_count": 29,
   "id": "fa4e225f-2ea9-41af-88ad-693ba721a29c",
   "metadata": {},
   "outputs": [
    {
     "data": {
      "text/plain": [
       "{'book_title': 'Outlander (novel)',\n",
       " 'url': 'https://outlander.fandom.com/wiki/Category:Characters_in_Outlander_(novel)'}"
      ]
     },
     "execution_count": 29,
     "metadata": {},
     "output_type": "execute_result"
    }
   ],
   "source": [
    "books[0]"
   ]
  },
  {
   "cell_type": "code",
   "execution_count": 30,
   "id": "0643e955-1bde-4488-a356-ec6bdef5e9ac",
   "metadata": {
    "tags": []
   },
   "outputs": [],
   "source": [
    "Character_list= []\n",
    "\n",
    "for book in books:\n",
    "    driver.get(book['url'])\n",
    "    Char_elems = driver.find_elements(By.CLASS_NAME, 'category-page__member-link')\n",
    "    \n",
    "    for Char in Char_elems:\n",
    "        Character_list.append({'Book':book['book_title'], 'Character': Char.text})"
   ]
  },
  {
   "cell_type": "code",
   "execution_count": 31,
   "id": "55cebfe3-0558-4736-8a2f-f66551deb66c",
   "metadata": {
    "tags": []
   },
   "outputs": [],
   "source": [
    "character_df =pd.DataFrame(Character_list)\n",
    "pd.set_option('display.max_rows', None)"
   ]
  },
  {
   "cell_type": "code",
   "execution_count": 32,
   "id": "6780587d-8584-4b62-bdf0-eed0e5237ea3",
   "metadata": {},
   "outputs": [],
   "source": [
    "#removing character names containing '/'\n",
    "filt = character_df[\"Character\"].str.contains('/')\n",
    "character_df = character_df[~filt]"
   ]
  },
  {
   "cell_type": "code",
   "execution_count": 33,
   "id": "d359d74b-bcd8-44ec-9ae5-befe13ac70a4",
   "metadata": {},
   "outputs": [],
   "source": [
    "#dropping duplicates\n",
    "character_df.drop_duplicates(subset=\"Character\", keep='first', inplace=True)"
   ]
  },
  {
   "cell_type": "code",
   "execution_count": 34,
   "id": "5967456d-3bf0-4aa8-bc0c-83e435f96846",
   "metadata": {},
   "outputs": [],
   "source": [
    "import os \n",
    "character_df.to_csv(f'{os.getcwd()}/characters_csv', index=False)\n"
   ]
  },
  {
   "cell_type": "code",
   "execution_count": 35,
   "id": "0fa1a3f7-9890-4cc8-b53e-c04b17555bff",
   "metadata": {},
   "outputs": [
    {
     "data": {
      "image/png": "[encoded data removed]",
      "text/plain": [
       "<Figure size 432x288 with 1 Axes>"
      ]
     },
     "metadata": {
      "needs_background": "light"
     },
     "output_type": "display_data"
    }
   ],
   "source": [
    "#Characters per book\n",
    "character_df['Book'].value_counts().plot(kind='bar')\n",
    "plt.show()"
   ]
  },
  {
   "cell_type": "code",
   "execution_count": 36,
   "id": "1484ddc0-a29b-4c07-a3b9-088bf862419f",
   "metadata": {},
   "outputs": [
    {
     "data": {
      "text/html": [
       "<div>\n",
       "<style scoped>\n",
       "    .dataframe tbody tr th:only-of-type {\n",
       "        vertical-align: middle;\n",
       "    }\n",
       "\n",
       "    .dataframe tbody tr th {\n",
       "        vertical-align: top;\n",
       "    }\n",
       "\n",
       "    .dataframe thead th {\n",
       "        text-align: right;\n",
       "    }\n",
       "</style>\n",
       "<table border=\"1\" class=\"dataframe\">\n",
       "  <thead>\n",
       "    <tr style=\"text-align: right;\">\n",
       "      <th></th>\n",
       "      <th>Book</th>\n",
       "      <th>Character</th>\n",
       "    </tr>\n",
       "  </thead>\n",
       "  <tbody>\n",
       "    <tr>\n",
       "      <th>0</th>\n",
       "      <td>Outlander (novel)</td>\n",
       "      <td>Alexander MacGregor</td>\n",
       "    </tr>\n",
       "    <tr>\n",
       "      <th>1</th>\n",
       "      <td>Outlander (novel)</td>\n",
       "      <td>Angus Mhor</td>\n",
       "    </tr>\n",
       "    <tr>\n",
       "      <th>3</th>\n",
       "      <td>Outlander (novel)</td>\n",
       "      <td>Father Anselm</td>\n",
       "    </tr>\n",
       "    <tr>\n",
       "      <th>4</th>\n",
       "      <td>Outlander (novel)</td>\n",
       "      <td>Father Bain</td>\n",
       "    </tr>\n",
       "    <tr>\n",
       "      <th>5</th>\n",
       "      <td>Outlander (novel)</td>\n",
       "      <td>Mrs. Baird</td>\n",
       "    </tr>\n",
       "  </tbody>\n",
       "</table>\n",
       "</div>"
      ],
      "text/plain": [
       "                Book            Character\n",
       "0  Outlander (novel)  Alexander MacGregor\n",
       "1  Outlander (novel)           Angus Mhor\n",
       "3  Outlander (novel)        Father Anselm\n",
       "4  Outlander (novel)          Father Bain\n",
       "5  Outlander (novel)           Mrs. Baird"
      ]
     },
     "execution_count": 36,
     "metadata": {},
     "output_type": "execute_result"
    }
   ],
   "source": [
    "character_df.head()"
   ]
  },
  {
   "cell_type": "code",
   "execution_count": null,
   "id": "53e728a7-7f08-40dc-8718-9364dac3817f",
   "metadata": {},
   "outputs": [],
   "source": []
  }
 ],
 "metadata": {
  "kernelspec": {
   "display_name": "Python 3 (ipykernel)",
   "language": "python",
   "name": "python3"
  },
  "language_info": {
   "codemirror_mode": {
    "name": "ipython",
    "version": 3
   },
   "file_extension": ".py",
   "mimetype": "text/x-python",
   "name": "python",
   "nbconvert_exporter": "python",
   "pygments_lexer": "ipython3",
   "version": "3.10.1"
  }
 },
 "nbformat": 4,
 "nbformat_minor": 5
}
